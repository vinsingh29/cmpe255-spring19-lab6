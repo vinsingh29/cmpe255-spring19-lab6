{
  "nbformat": 4,
  "nbformat_minor": 0,
  "metadata": {
    "colab": {
      "name": "Lab6-Linear Regression.ipynb",
      "version": "0.3.2",
      "provenance": []
    },
    "kernelspec": {
      "display_name": "Python 3",
      "language": "python",
      "name": "python3"
    }
  },
  "cells": [
    {
      "metadata": {
        "id": "7y3omkdxTMt5",
        "colab_type": "text"
      },
      "cell_type": "markdown",
      "source": [
        " **Importing libraries**"
      ]
    },
    {
      "metadata": {
        "id": "iFhv0PmqPwFy",
        "colab_type": "code",
        "colab": {}
      },
      "cell_type": "code",
      "source": [
        "import numpy as np\n",
        "import matplotlib\n",
        "import matplotlib.pyplot as plt\n",
        "from matplotlib import style\n",
        "import pandas as pd\n",
        "%matplotlib inline"
      ],
      "execution_count": 0,
      "outputs": []
    },
    {
      "metadata": {
        "id": "CqaJiVioUIZh",
        "colab_type": "text"
      },
      "cell_type": "markdown",
      "source": [
        "**Setting up Variables**"
      ]
    },
    {
      "metadata": {
        "id": "rqjBnsDQPwF2",
        "colab_type": "code",
        "colab": {}
      },
      "cell_type": "code",
      "source": [
        "age=[17.5, 22, 29.5, 44.5, 64.5, 80]\n",
        "deaths=[38, 36, 24, 20, 18, 28]"
      ],
      "execution_count": 0,
      "outputs": []
    },
    {
      "metadata": {
        "id": "IwkLdc6bULNW",
        "colab_type": "text"
      },
      "cell_type": "markdown",
      "source": [
        "**Scatter plot of the data**\n",
        "\n",
        "Deaths (y) : Dependent variable\n",
        "\n",
        "Age (x) : Independent variable"
      ]
    },
    {
      "metadata": {
        "id": "FQqV1bbQPwF4",
        "colab_type": "code",
        "colab": {
          "base_uri": "https://localhost:8080/",
          "height": 279
        },
        "outputId": "fdd9a0d5-6411-4eea-9f3a-59dec7fed621"
      },
      "cell_type": "code",
      "source": [
        "plt.scatter(age, deaths)\n",
        "plt.ylabel(\"Number of Driver Deaths per 100,000\")\n",
        "plt.xlabel(\"Age\")\n",
        "plt.show()"
      ],
      "execution_count": 69,
      "outputs": [
        {
          "output_type": "display_data",
          "data": {
            "image/png": "[encoded data removed]",
            "text/plain": [
              "<Figure size 432x288 with 1 Axes>"
            ]
          },
          "metadata": {
            "tags": []
          }
        }
      ]
    },
    {
      "metadata": {
        "id": "hmlJfwTGUhyF",
        "colab_type": "text"
      },
      "cell_type": "markdown",
      "source": [
        "**Calculate mean of x and y**"
      ]
    },
    {
      "metadata": {
        "id": "EItXCJsnPwF8",
        "colab_type": "code",
        "colab": {}
      },
      "cell_type": "code",
      "source": [
        "x = np.array(age);\n",
        "y = np.array(deaths);\n",
        "x_mean = ( ( ( np.mean(x)*np.mean(y) ) - np.mean(x*y) ) / ( ( np.mean(x)*np.mean(x) ) - np.mean(x*x) ) )\n",
        "y_mean=(np.mean(y) - m*np.mean(x))"
      ],
      "execution_count": 0,
      "outputs": []
    },
    {
      "metadata": {
        "id": "DUR96zIgPwF-",
        "colab_type": "code",
        "colab": {
          "base_uri": "https://localhost:8080/",
          "height": 34
        },
        "outputId": "c7589f8d-8e89-4cf5-cd41-9e74282a502d"
      },
      "cell_type": "code",
      "source": [
        "x_mean,y_mean"
      ],
      "execution_count": 71,
      "outputs": [
        {
          "output_type": "execute_result",
          "data": {
            "text/plain": [
              "(-0.19182491149018324, 35.50333333333333)"
            ]
          },
          "metadata": {
            "tags": []
          },
          "execution_count": 71
        }
      ]
    },
    {
      "metadata": {
        "id": "joswu8UMPwGB",
        "colab_type": "code",
        "colab": {}
      },
      "cell_type": "code",
      "source": [
        "y = [(x_mean*x) + y_mean for x in age]"
      ],
      "execution_count": 0,
      "outputs": []
    },
    {
      "metadata": {
        "id": "7ht79kqWPwGD",
        "colab_type": "code",
        "colab": {
          "base_uri": "https://localhost:8080/",
          "height": 279
        },
        "outputId": "6a90610c-c0b2-4a14-f89c-83291d321623"
      },
      "cell_type": "code",
      "source": [
        "plt.scatter(age, deaths)\n",
        "plt.plot(age, y)\n",
        "plt.xlabel(\"Age\")\n",
        "plt.ylabel(\"Number of Driver Deaths per 100,000\")\n",
        "plt.show()"
      ],
      "execution_count": 74,
      "outputs": [
        {
          "output_type": "display_data",
          "data": {
            "image/png": "[encoded data removed]",
            "text/plain": [
              "<Figure size 432x288 with 1 Axes>"
            ]
          },
          "metadata": {
            "tags": []
          }
        }
      ]
    },
    {
      "metadata": {
        "id": "16UeBZBwRbpi",
        "colab_type": "text"
      },
      "cell_type": "markdown",
      "source": [
        "**Predict the number of deaths for ages 40 and 60**"
      ]
    },
    {
      "metadata": {
        "id": "9f7BkL-sPwGG",
        "colab_type": "code",
        "colab": {
          "base_uri": "https://localhost:8080/",
          "height": 51
        },
        "outputId": "b7b07422-d75a-484f-c8be-322f05989a8b"
      },
      "cell_type": "code",
      "source": [
        "age_40 = x_mean*40 + y_mean\n",
        "age_60 = x_mean*60 + y_mean\n",
        "print(\"When age = 40, death =\",age_40)\n",
        "print(\"When age = 60, death =\",age_60)\n"
      ],
      "execution_count": 75,
      "outputs": [
        {
          "output_type": "stream",
          "text": [
            "When age = 40, death = 27.830336873726\n",
            "When age = 60, death = 23.993838643922338\n"
          ],
          "name": "stdout"
        }
      ]
    },
    {
      "metadata": {
        "id": "IYrntTv1PwGM",
        "colab_type": "code",
        "colab": {
          "base_uri": "https://localhost:8080/",
          "height": 34
        },
        "outputId": "25f217ea-da8e-4031-873e-da538214b188"
      },
      "cell_type": "code",
      "source": [
        "from scipy.stats.stats import pearsonr\n",
        "pearsonr(age, deaths)"
      ],
      "execution_count": 76,
      "outputs": [
        {
          "output_type": "execute_result",
          "data": {
            "text/plain": [
              "(-0.578743707566063, 0.22880788559284734)"
            ]
          },
          "metadata": {
            "tags": []
          },
          "execution_count": 76
        }
      ]
    },
    {
      "metadata": {
        "id": "OKl-mn2dScRJ",
        "colab_type": "text"
      },
      "cell_type": "markdown",
      "source": [
        "**Conclusion:**\n",
        "\n",
        "Pearson Coefficient = -0.578743707566063. \n",
        "\n",
        "We can also conclude that there is not a significant linear relationship between deaths and age. \n",
        "\n",
        "Slope of the least squares (best-fit) line :  -0.19182491149018324"
      ]
    }
  ]
}